{
 "cells": [
  {
   "cell_type": "code",
   "execution_count": 1,
   "metadata": {},
   "outputs": [],
   "source": [
    "from proyector import Proyector, np"
   ]
  },
  {
   "cell_type": "code",
   "execution_count": 2,
   "metadata": {},
   "outputs": [
    {
     "data": {
      "text/plain": [
       "array([[ 0.57735027,  0.        ,  0.        ,  0.        ],\n",
       "       [ 0.        ,  0.57735027,  0.        ,  0.        ],\n",
       "       [ 0.        ,  0.        ,  1.01161406, -1.16140592],\n",
       "       [ 0.        ,  0.        ,  1.        ,  0.        ]])"
      ]
     },
     "execution_count": 2,
     "metadata": {},
     "output_type": "execute_result"
    }
   ],
   "source": [
    "proy = Proyector( np.deg2rad( 60 ), 100, 1 )\n",
    "proy.proyection_matrix"
   ]
  },
  {
   "cell_type": "code",
   "execution_count": 6,
   "metadata": {},
   "outputs": [
    {
     "data": {
      "text/plain": [
       "[array([284.52994616, 515.47005384]),\n",
       " array([284.52994616, 284.52994616]),\n",
       " array([515.47005384, 284.52994616])]"
      ]
     },
     "execution_count": 6,
     "metadata": {},
     "output_type": "execute_result"
    }
   ],
   "source": [
    "vertices = [ [ -1, 1, 2, 1 ], [ -1, -1, 2, 1 ], [ 1, -1, 2, 1 ] ]\n",
    "v1, v2, v3 = proy.proyect_tri( vertices )\n",
    "\n",
    "tri_coords = [ v1[:2], v2[:2], v3[:2] ]\n",
    "\n",
    "[(v+1)*np.array([800/2, 800/2]) for v in [ v1[:2], v2[:2], v3[:2] ]]"
   ]
  },
  {
   "cell_type": "code",
   "execution_count": null,
   "metadata": {},
   "outputs": [],
   "source": [
    "np.array( [ [1, 2, 3], [0]*3, [0]*3 ] )@[1 ,1, 1]"
   ]
  }
 ],
 "metadata": {
  "kernelspec": {
   "display_name": "Python 3",
   "language": "python",
   "name": "python3"
  },
  "language_info": {
   "codemirror_mode": {
    "name": "ipython",
    "version": 3
   },
   "file_extension": ".py",
   "mimetype": "text/x-python",
   "name": "python",
   "nbconvert_exporter": "python",
   "pygments_lexer": "ipython3",
   "version": "3.9.13"
  }
 },
 "nbformat": 4,
 "nbformat_minor": 2
}
